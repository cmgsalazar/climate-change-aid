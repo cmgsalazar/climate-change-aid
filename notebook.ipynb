{
 "cells": [
  {
   "cell_type": "markdown",
   "id": "31cb2a9e-7990-4135-b51d-88aab8a79756",
   "metadata": {},
   "source": [
    "Notes from mentorship:\n",
    "\n",
    "- benchmarking, for countries; maybe only up to 100 the rest are others\n",
    "- benchmarking, for years; maybe cover last 10 years\n",
    "\n",
    "- China as receiving country"
   ]
  },
  {
   "cell_type": "code",
   "execution_count": 2,
   "id": "f98a292c-f29f-4764-b9ea-bed2217229ce",
   "metadata": {},
   "outputs": [],
   "source": [
    "import pandas as pd\n",
    "import matplotlib.pyplot as plt"
   ]
  },
  {
   "cell_type": "code",
   "execution_count": 3,
   "id": "55759c80-ac70-4297-9470-a84f5b5ef336",
   "metadata": {},
   "outputs": [
    {
     "data": {
      "text/plain": [
       "(111028, 37)"
      ]
     },
     "execution_count": 3,
     "metadata": {},
     "output_type": "execute_result"
    }
   ],
   "source": [
    "df = pd.read_csv('climate-change-total.csv')\n",
    "df.shape"
   ]
  },
  {
   "cell_type": "code",
   "execution_count": 4,
   "id": "b716c4c2-83fd-424b-8559-c6a383b6c26d",
   "metadata": {},
   "outputs": [
    {
     "data": {
      "text/plain": [
       "usd_commitment                 int64\n",
       "usd_disbursement             float64\n",
       "id                             int64\n",
       "project_title                 object\n",
       "short_description             object\n",
       "long_description              object\n",
       "donor_name                    object\n",
       "donor_id                       int64\n",
       "recipient_name                object\n",
       "recipient_id                   int64\n",
       "year_name                      int64\n",
       "year_id                        int64\n",
       "lvl_0_sector_name             object\n",
       "lvl_0_sector_id                int64\n",
       "lvl_1_sector_name             object\n",
       "lvl_1_sector_id              float64\n",
       "lvl_2_sector_name             object\n",
       "lvl_2_sector_id              float64\n",
       "grant_type_name               object\n",
       "grant_type_id                float64\n",
       "gender                         int64\n",
       "environment                    int64\n",
       "trade                          int64\n",
       "pdgg                           int64\n",
       "biodiversity                   int64\n",
       "climate_mitigation             int64\n",
       "climate_adaptation             int64\n",
       "desertification                int64\n",
       "rmnch                          int64\n",
       "drr                            int64\n",
       "nutrition                      int64\n",
       "disability                     int64\n",
       "climate_change                 int64\n",
       "mitigation_only                int64\n",
       "adaptation_only                int64\n",
       "mitigation_and_adaptation      int64\n",
       "covid_19                       int64\n",
       "dtype: object"
      ]
     },
     "execution_count": 4,
     "metadata": {},
     "output_type": "execute_result"
    }
   ],
   "source": [
    "df.dtypes"
   ]
  },
  {
   "cell_type": "code",
   "execution_count": 5,
   "id": "cb2f1922-f721-4782-8c77-8f1d18beae0f",
   "metadata": {},
   "outputs": [
    {
     "data": {
      "text/plain": [
       "donor_name\n",
       "United States                            14504\n",
       "Germany                                  13329\n",
       "EU Institutions (excl. EIB)               6303\n",
       "International Development Association     6177\n",
       "Japan                                     5743\n",
       "                                         ...  \n",
       "Latvia                                       2\n",
       "Black Sea Trade & Development Bank           2\n",
       "Bernard van Leer Foundation                  1\n",
       "McKnight Foundation                          1\n",
       "Carnegie Corporation of New York             1\n",
       "Name: count, Length: 90, dtype: int64"
      ]
     },
     "execution_count": 5,
     "metadata": {},
     "output_type": "execute_result"
    }
   ],
   "source": [
    "# top donor countries, by number of projs/loans (?)\n",
    "df['donor_name'].value_counts()"
   ]
  },
  {
   "cell_type": "code",
   "execution_count": 6,
   "id": "9afc1658-fda0-43c1-8e81-ff1b0945decf",
   "metadata": {},
   "outputs": [
    {
     "data": {
      "text/plain": [
       "recipient_name\n",
       "Developing countries unspecified    13492\n",
       "India                                5041\n",
       "China (People's Republic of)         3832\n",
       "South of Sahara, regional            3132\n",
       "Indonesia                            2687\n",
       "                                    ...  \n",
       "Montserrat                              6\n",
       "Wallis and Futuna                       6\n",
       "Oman                                    5\n",
       "Saudi Arabia                            4\n",
       "Slovenia                                2\n",
       "Name: count, Length: 176, dtype: int64"
      ]
     },
     "execution_count": 6,
     "metadata": {},
     "output_type": "execute_result"
    }
   ],
   "source": [
    "# top receiving countries, by number of projs/loans (?)\n",
    "df['recipient_name'].value_counts()"
   ]
  },
  {
   "cell_type": "code",
   "execution_count": 7,
   "id": "f4dddc61-133d-4609-98ba-a3e69aecb6f0",
   "metadata": {},
   "outputs": [
    {
     "data": {
      "text/plain": [
       "lvl_2_sector_name\n",
       "Environmental policy and administrative management              15954\n",
       "Energy generation, renewable sources - multiple technologies     5976\n",
       "Biosphere protection                                             5437\n",
       "Energy policy and administrative management                      4760\n",
       "Agricultural development                                         4543\n",
       "                                                                ...  \n",
       "Child soldiers (prevention and demobilisation)                      1\n",
       "Offshore minerals                                                   1\n",
       "Research for prevention and control of NCDs                         1\n",
       "Non-ferrous metal industries                                        1\n",
       "Other Other debt swap                                               1\n",
       "Name: count, Length: 209, dtype: int64"
      ]
     },
     "execution_count": 7,
     "metadata": {},
     "output_type": "execute_result"
    }
   ],
   "source": [
    "# top sectors, by number of projs/loans (?)\n",
    "df['lvl_2_sector_name'].value_counts()"
   ]
  },
  {
   "cell_type": "code",
   "execution_count": 8,
   "id": "61472f80-2b6d-4a84-81fe-b46fc4ab7bdb",
   "metadata": {},
   "outputs": [
    {
     "data": {
      "text/plain": [
       "lvl_2_sector_name                                                 recipient_name                  \n",
       "Rail transport                                                    India                               20787664041\n",
       "Environmental policy and administrative management                Developing countries unspecified     9155180020\n",
       "Electric power transmission and distribution (centralised grids)  India                                5643515352\n",
       "Rail transport                                                    Egypt                                4239291391\n",
       "Energy generation, renewable sources - multiple technologies      India                                3916887628\n",
       "                                                                                                         ...     \n",
       "Democratic participation and civil society                        Türkiye                                       0\n",
       "                                                                  Tonga                                         0\n",
       "                                                                  Samoa                                         0\n",
       "Higher education                                                  Cabo Verde                                    0\n",
       "Sectors not specified                                             Niger                                         0\n",
       "Name: usd_commitment, Length: 10467, dtype: int64"
      ]
     },
     "execution_count": 8,
     "metadata": {},
     "output_type": "execute_result"
    }
   ],
   "source": [
    "# top commitments by sector by receiving country\n",
    "df.groupby(['lvl_2_sector_name', 'recipient_name'])['usd_commitment'].sum().sort_values(ascending=False)"
   ]
  },
  {
   "cell_type": "code",
   "execution_count": 9,
   "id": "c56e3e27-389f-4ca6-a3df-f319df73f235",
   "metadata": {},
   "outputs": [
    {
     "data": {
      "text/plain": [
       "lvl_2_sector_name                                                        donor_name                                      \n",
       "Rail transport                                                           Japan                                               18845933274\n",
       "Energy generation, renewable sources - multiple technologies             Germany                                              8842050297\n",
       "Rail transport                                                           European Investment Bank (EIB)                       5814913403\n",
       "Formal sector financial intermediaries                                   European Bank for Reconstruction and Development     5099547998\n",
       "Sectors not specified                                                    Development Bank of Latin America                    5048925150\n",
       "                                                                                                                                ...     \n",
       "Education and training in water supply and sanitation                    United Kingdom                                                0\n",
       "                                                                         Finland                                                       0\n",
       "Legal and judicial development                                           New Zealand                                                   0\n",
       "Education and training in transport and storage                          EU Institutions (excl. EIB)                                   0\n",
       "Women's rights organisations and movements, and government institutions  United States                                                 0\n",
       "Name: usd_commitment, Length: 3650, dtype: int64"
      ]
     },
     "execution_count": 9,
     "metadata": {},
     "output_type": "execute_result"
    }
   ],
   "source": [
    "# top commitments by sector by donor country\n",
    "df.groupby(['lvl_2_sector_name', 'donor_name'])['usd_commitment'].sum().sort_values(ascending=False)"
   ]
  },
  {
   "cell_type": "code",
   "execution_count": 10,
   "id": "460ebcca-b556-4f9f-bfbf-446c4ca3890f",
   "metadata": {},
   "outputs": [
    {
     "data": {
      "text/plain": [
       "donor_name                                        lvl_2_sector_name                                           \n",
       "Japan                                             Rail transport                                                  18845933274\n",
       "Germany                                           Energy generation, renewable sources - multiple technologies     8842050297\n",
       "European Investment Bank (EIB)                    Rail transport                                                   5814913403\n",
       "European Bank for Reconstruction and Development  Formal sector financial intermediaries                           5099547998\n",
       "Development Bank of Latin America                 Sectors not specified                                            5048925150\n",
       "                                                                                                                     ...     \n",
       "Switzerland                                       Basic life skills for youth                                               0\n",
       "EU Institutions (excl. EIB)                       Public finance management (PFM)                                           0\n",
       "                                                  Promotion of development awareness (non-sector allocable)                 0\n",
       "                                                  Oil-fired electric power plants                                           0\n",
       "William & Flora Hewlett Foundation                Water supply and sanitation - large systems                               0\n",
       "Name: usd_commitment, Length: 3650, dtype: int64"
      ]
     },
     "execution_count": 10,
     "metadata": {},
     "output_type": "execute_result"
    }
   ],
   "source": [
    "# top commitments by donor country by sector\n",
    "df.groupby(['donor_name', 'lvl_2_sector_name'])['usd_commitment'].sum().sort_values(ascending=False)"
   ]
  },
  {
   "cell_type": "code",
   "execution_count": 11,
   "id": "011f47bd-dfc9-4e9d-a7d3-cb80576f2afb",
   "metadata": {},
   "outputs": [
    {
     "data": {
      "text/plain": [
       "recipient_name                    lvl_2_sector_name                                               \n",
       "India                             Rail transport                                                      20787664041\n",
       "Developing countries unspecified  Environmental policy and administrative management                   9155180020\n",
       "India                             Electric power transmission and distribution (centralised grids)     5643515352\n",
       "Egypt                             Rail transport                                                       4239291391\n",
       "India                             Energy generation, renewable sources - multiple technologies         3916887628\n",
       "                                                                                                         ...     \n",
       "America, regional                 Food security policy and administrative management                            0\n",
       "                                  Food safety and quality                                                       0\n",
       "                                  Food assistance                                                               0\n",
       "Vanuatu                           Basic drinking water supply                                                   0\n",
       "Mauritius                         Fishing policy and administrative management                                  0\n",
       "Name: usd_commitment, Length: 10467, dtype: int64"
      ]
     },
     "execution_count": 11,
     "metadata": {},
     "output_type": "execute_result"
    }
   ],
   "source": [
    "# top commitments by receiving country by sector\n",
    "df.groupby(['recipient_name', 'lvl_2_sector_name'])['usd_commitment'].sum().sort_values(ascending=False)"
   ]
  },
  {
   "cell_type": "code",
   "execution_count": 12,
   "id": "ef194c90-afad-40ad-b20e-b1248d1a8bd8",
   "metadata": {},
   "outputs": [
    {
     "data": {
      "text/html": [
       "<div>\n",
       "<style scoped>\n",
       "    .dataframe tbody tr th:only-of-type {\n",
       "        vertical-align: middle;\n",
       "    }\n",
       "\n",
       "    .dataframe tbody tr th {\n",
       "        vertical-align: top;\n",
       "    }\n",
       "\n",
       "    .dataframe thead th {\n",
       "        text-align: right;\n",
       "    }\n",
       "</style>\n",
       "<table border=\"1\" class=\"dataframe\">\n",
       "  <thead>\n",
       "    <tr style=\"text-align: right;\">\n",
       "      <th></th>\n",
       "      <th>usd_commitment</th>\n",
       "      <th>usd_disbursement</th>\n",
       "      <th>id</th>\n",
       "      <th>project_title</th>\n",
       "      <th>short_description</th>\n",
       "      <th>long_description</th>\n",
       "      <th>donor_name</th>\n",
       "      <th>donor_id</th>\n",
       "      <th>recipient_name</th>\n",
       "      <th>recipient_id</th>\n",
       "      <th>...</th>\n",
       "      <th>desertification</th>\n",
       "      <th>rmnch</th>\n",
       "      <th>drr</th>\n",
       "      <th>nutrition</th>\n",
       "      <th>disability</th>\n",
       "      <th>climate_change</th>\n",
       "      <th>mitigation_only</th>\n",
       "      <th>adaptation_only</th>\n",
       "      <th>mitigation_and_adaptation</th>\n",
       "      <th>covid_19</th>\n",
       "    </tr>\n",
       "  </thead>\n",
       "  <tbody>\n",
       "    <tr>\n",
       "      <th>77</th>\n",
       "      <td>389000000</td>\n",
       "      <td>NaN</td>\n",
       "      <td>4499104</td>\n",
       "      <td>HENAN FLOOD EMERGENCY REHABILITATION AND RECOV...</td>\n",
       "      <td>NaN</td>\n",
       "      <td>Henan Flood Emergency Rehabilitation and Recov...</td>\n",
       "      <td>Asian Infrastructure Investment Bank</td>\n",
       "      <td>1024</td>\n",
       "      <td>China (People's Republic of)</td>\n",
       "      <td>730</td>\n",
       "      <td>...</td>\n",
       "      <td>0</td>\n",
       "      <td>0</td>\n",
       "      <td>0</td>\n",
       "      <td>0</td>\n",
       "      <td>0</td>\n",
       "      <td>2</td>\n",
       "      <td>0</td>\n",
       "      <td>2</td>\n",
       "      <td>0</td>\n",
       "      <td>0</td>\n",
       "    </tr>\n",
       "    <tr>\n",
       "      <th>127</th>\n",
       "      <td>308312389</td>\n",
       "      <td>NaN</td>\n",
       "      <td>4494445</td>\n",
       "      <td>CHINA RE AND STORAGE PROJECT</td>\n",
       "      <td>NaN</td>\n",
       "      <td>China RE and Storage Project</td>\n",
       "      <td>International Bank for Reconstruction and Deve...</td>\n",
       "      <td>901</td>\n",
       "      <td>China (People's Republic of)</td>\n",
       "      <td>730</td>\n",
       "      <td>...</td>\n",
       "      <td>0</td>\n",
       "      <td>0</td>\n",
       "      <td>0</td>\n",
       "      <td>0</td>\n",
       "      <td>0</td>\n",
       "      <td>2</td>\n",
       "      <td>2</td>\n",
       "      <td>0</td>\n",
       "      <td>0</td>\n",
       "      <td>0</td>\n",
       "    </tr>\n",
       "    <tr>\n",
       "      <th>174</th>\n",
       "      <td>280024913</td>\n",
       "      <td>NaN</td>\n",
       "      <td>4487063</td>\n",
       "      <td>HAJIA RAILWAY</td>\n",
       "      <td>NaN</td>\n",
       "      <td>NaN</td>\n",
       "      <td>International Bank for Reconstruction and Deve...</td>\n",
       "      <td>901</td>\n",
       "      <td>China (People's Republic of)</td>\n",
       "      <td>730</td>\n",
       "      <td>...</td>\n",
       "      <td>0</td>\n",
       "      <td>0</td>\n",
       "      <td>0</td>\n",
       "      <td>0</td>\n",
       "      <td>0</td>\n",
       "      <td>2</td>\n",
       "      <td>2</td>\n",
       "      <td>0</td>\n",
       "      <td>0</td>\n",
       "      <td>0</td>\n",
       "    </tr>\n",
       "    <tr>\n",
       "      <th>176</th>\n",
       "      <td>278023288</td>\n",
       "      <td>NaN</td>\n",
       "      <td>4488739</td>\n",
       "      <td>HEBEI AIR POLLUTION PREVENTION AND CONTROL PRO...</td>\n",
       "      <td>NaN</td>\n",
       "      <td>NaN</td>\n",
       "      <td>International Bank for Reconstruction and Deve...</td>\n",
       "      <td>901</td>\n",
       "      <td>China (People's Republic of)</td>\n",
       "      <td>730</td>\n",
       "      <td>...</td>\n",
       "      <td>0</td>\n",
       "      <td>0</td>\n",
       "      <td>0</td>\n",
       "      <td>0</td>\n",
       "      <td>0</td>\n",
       "      <td>2</td>\n",
       "      <td>2</td>\n",
       "      <td>0</td>\n",
       "      <td>0</td>\n",
       "      <td>0</td>\n",
       "    </tr>\n",
       "    <tr>\n",
       "      <th>191</th>\n",
       "      <td>260565406</td>\n",
       "      <td>NaN</td>\n",
       "      <td>4488737</td>\n",
       "      <td>INNOVATIVE FINANCING FOR AIR POLLUTION CONTROL...</td>\n",
       "      <td>NaN</td>\n",
       "      <td>NaN</td>\n",
       "      <td>International Bank for Reconstruction and Deve...</td>\n",
       "      <td>901</td>\n",
       "      <td>China (People's Republic of)</td>\n",
       "      <td>730</td>\n",
       "      <td>...</td>\n",
       "      <td>0</td>\n",
       "      <td>0</td>\n",
       "      <td>0</td>\n",
       "      <td>0</td>\n",
       "      <td>0</td>\n",
       "      <td>2</td>\n",
       "      <td>2</td>\n",
       "      <td>0</td>\n",
       "      <td>0</td>\n",
       "      <td>0</td>\n",
       "    </tr>\n",
       "    <tr>\n",
       "      <th>...</th>\n",
       "      <td>...</td>\n",
       "      <td>...</td>\n",
       "      <td>...</td>\n",
       "      <td>...</td>\n",
       "      <td>...</td>\n",
       "      <td>...</td>\n",
       "      <td>...</td>\n",
       "      <td>...</td>\n",
       "      <td>...</td>\n",
       "      <td>...</td>\n",
       "      <td>...</td>\n",
       "      <td>...</td>\n",
       "      <td>...</td>\n",
       "      <td>...</td>\n",
       "      <td>...</td>\n",
       "      <td>...</td>\n",
       "      <td>...</td>\n",
       "      <td>...</td>\n",
       "      <td>...</td>\n",
       "      <td>...</td>\n",
       "      <td>...</td>\n",
       "    </tr>\n",
       "    <tr>\n",
       "      <th>110989</th>\n",
       "      <td>0</td>\n",
       "      <td>943.0</td>\n",
       "      <td>4472606</td>\n",
       "      <td>Rehabilitation and management strategy for ove...</td>\n",
       "      <td>REHABILITATION AND MANAGEMENT STRATEGY FOR OVE...</td>\n",
       "      <td>In the past 30 years the aquifers in the North...</td>\n",
       "      <td>Switzerland</td>\n",
       "      <td>11</td>\n",
       "      <td>China (People's Republic of)</td>\n",
       "      <td>730</td>\n",
       "      <td>...</td>\n",
       "      <td>0</td>\n",
       "      <td>0</td>\n",
       "      <td>0</td>\n",
       "      <td>0</td>\n",
       "      <td>0</td>\n",
       "      <td>2</td>\n",
       "      <td>0</td>\n",
       "      <td>2</td>\n",
       "      <td>0</td>\n",
       "      <td>0</td>\n",
       "    </tr>\n",
       "    <tr>\n",
       "      <th>110990</th>\n",
       "      <td>0</td>\n",
       "      <td>1414.0</td>\n",
       "      <td>4472607</td>\n",
       "      <td>Rehabilitation and management strategy for ove...</td>\n",
       "      <td>REHABILITATION AND MANAGEMENT STRATEGY FOR OVE...</td>\n",
       "      <td>In the past 30 years the aquifers in the North...</td>\n",
       "      <td>Switzerland</td>\n",
       "      <td>11</td>\n",
       "      <td>China (People's Republic of)</td>\n",
       "      <td>730</td>\n",
       "      <td>...</td>\n",
       "      <td>0</td>\n",
       "      <td>0</td>\n",
       "      <td>0</td>\n",
       "      <td>0</td>\n",
       "      <td>0</td>\n",
       "      <td>2</td>\n",
       "      <td>0</td>\n",
       "      <td>2</td>\n",
       "      <td>0</td>\n",
       "      <td>0</td>\n",
       "    </tr>\n",
       "    <tr>\n",
       "      <th>110991</th>\n",
       "      <td>0</td>\n",
       "      <td>7467.0</td>\n",
       "      <td>4472608</td>\n",
       "      <td>Rehabilitation and management strategy for ove...</td>\n",
       "      <td>REHABILITATION AND MANAGEMENT STRATEGY FOR OVE...</td>\n",
       "      <td>In the past 30 years the aquifers in the North...</td>\n",
       "      <td>Switzerland</td>\n",
       "      <td>11</td>\n",
       "      <td>China (People's Republic of)</td>\n",
       "      <td>730</td>\n",
       "      <td>...</td>\n",
       "      <td>0</td>\n",
       "      <td>0</td>\n",
       "      <td>0</td>\n",
       "      <td>0</td>\n",
       "      <td>0</td>\n",
       "      <td>2</td>\n",
       "      <td>0</td>\n",
       "      <td>2</td>\n",
       "      <td>0</td>\n",
       "      <td>0</td>\n",
       "    </tr>\n",
       "    <tr>\n",
       "      <th>110992</th>\n",
       "      <td>0</td>\n",
       "      <td>2987.0</td>\n",
       "      <td>4472609</td>\n",
       "      <td>Rehabilitation and management strategy for ove...</td>\n",
       "      <td>REHABILITATION AND MANAGEMENT STRATEGY FOR OVE...</td>\n",
       "      <td>In the past 30 years the aquifers in the North...</td>\n",
       "      <td>Switzerland</td>\n",
       "      <td>11</td>\n",
       "      <td>China (People's Republic of)</td>\n",
       "      <td>730</td>\n",
       "      <td>...</td>\n",
       "      <td>0</td>\n",
       "      <td>0</td>\n",
       "      <td>0</td>\n",
       "      <td>0</td>\n",
       "      <td>0</td>\n",
       "      <td>2</td>\n",
       "      <td>0</td>\n",
       "      <td>2</td>\n",
       "      <td>0</td>\n",
       "      <td>0</td>\n",
       "    </tr>\n",
       "    <tr>\n",
       "      <th>110993</th>\n",
       "      <td>0</td>\n",
       "      <td>4480.0</td>\n",
       "      <td>4472610</td>\n",
       "      <td>Rehabilitation and management strategy for ove...</td>\n",
       "      <td>REHABILITATION AND MANAGEMENT STRATEGY FOR OVE...</td>\n",
       "      <td>In the past 30 years the aquifers in the North...</td>\n",
       "      <td>Switzerland</td>\n",
       "      <td>11</td>\n",
       "      <td>China (People's Republic of)</td>\n",
       "      <td>730</td>\n",
       "      <td>...</td>\n",
       "      <td>0</td>\n",
       "      <td>0</td>\n",
       "      <td>0</td>\n",
       "      <td>0</td>\n",
       "      <td>0</td>\n",
       "      <td>2</td>\n",
       "      <td>0</td>\n",
       "      <td>2</td>\n",
       "      <td>0</td>\n",
       "      <td>0</td>\n",
       "    </tr>\n",
       "  </tbody>\n",
       "</table>\n",
       "<p>3832 rows × 37 columns</p>\n",
       "</div>"
      ],
      "text/plain": [
       "        usd_commitment  usd_disbursement       id  \\\n",
       "77           389000000               NaN  4499104   \n",
       "127          308312389               NaN  4494445   \n",
       "174          280024913               NaN  4487063   \n",
       "176          278023288               NaN  4488739   \n",
       "191          260565406               NaN  4488737   \n",
       "...                ...               ...      ...   \n",
       "110989               0             943.0  4472606   \n",
       "110990               0            1414.0  4472607   \n",
       "110991               0            7467.0  4472608   \n",
       "110992               0            2987.0  4472609   \n",
       "110993               0            4480.0  4472610   \n",
       "\n",
       "                                            project_title  \\\n",
       "77      HENAN FLOOD EMERGENCY REHABILITATION AND RECOV...   \n",
       "127                          CHINA RE AND STORAGE PROJECT   \n",
       "174                                         HAJIA RAILWAY   \n",
       "176     HEBEI AIR POLLUTION PREVENTION AND CONTROL PRO...   \n",
       "191     INNOVATIVE FINANCING FOR AIR POLLUTION CONTROL...   \n",
       "...                                                   ...   \n",
       "110989  Rehabilitation and management strategy for ove...   \n",
       "110990  Rehabilitation and management strategy for ove...   \n",
       "110991  Rehabilitation and management strategy for ove...   \n",
       "110992  Rehabilitation and management strategy for ove...   \n",
       "110993  Rehabilitation and management strategy for ove...   \n",
       "\n",
       "                                        short_description  \\\n",
       "77                                                    NaN   \n",
       "127                                                   NaN   \n",
       "174                                                   NaN   \n",
       "176                                                   NaN   \n",
       "191                                                   NaN   \n",
       "...                                                   ...   \n",
       "110989  REHABILITATION AND MANAGEMENT STRATEGY FOR OVE...   \n",
       "110990  REHABILITATION AND MANAGEMENT STRATEGY FOR OVE...   \n",
       "110991  REHABILITATION AND MANAGEMENT STRATEGY FOR OVE...   \n",
       "110992  REHABILITATION AND MANAGEMENT STRATEGY FOR OVE...   \n",
       "110993  REHABILITATION AND MANAGEMENT STRATEGY FOR OVE...   \n",
       "\n",
       "                                         long_description  \\\n",
       "77      Henan Flood Emergency Rehabilitation and Recov...   \n",
       "127                          China RE and Storage Project   \n",
       "174                                                   NaN   \n",
       "176                                                   NaN   \n",
       "191                                                   NaN   \n",
       "...                                                   ...   \n",
       "110989  In the past 30 years the aquifers in the North...   \n",
       "110990  In the past 30 years the aquifers in the North...   \n",
       "110991  In the past 30 years the aquifers in the North...   \n",
       "110992  In the past 30 years the aquifers in the North...   \n",
       "110993  In the past 30 years the aquifers in the North...   \n",
       "\n",
       "                                               donor_name  donor_id  \\\n",
       "77                   Asian Infrastructure Investment Bank      1024   \n",
       "127     International Bank for Reconstruction and Deve...       901   \n",
       "174     International Bank for Reconstruction and Deve...       901   \n",
       "176     International Bank for Reconstruction and Deve...       901   \n",
       "191     International Bank for Reconstruction and Deve...       901   \n",
       "...                                                   ...       ...   \n",
       "110989                                        Switzerland        11   \n",
       "110990                                        Switzerland        11   \n",
       "110991                                        Switzerland        11   \n",
       "110992                                        Switzerland        11   \n",
       "110993                                        Switzerland        11   \n",
       "\n",
       "                      recipient_name  recipient_id  ...  desertification  \\\n",
       "77      China (People's Republic of)           730  ...                0   \n",
       "127     China (People's Republic of)           730  ...                0   \n",
       "174     China (People's Republic of)           730  ...                0   \n",
       "176     China (People's Republic of)           730  ...                0   \n",
       "191     China (People's Republic of)           730  ...                0   \n",
       "...                              ...           ...  ...              ...   \n",
       "110989  China (People's Republic of)           730  ...                0   \n",
       "110990  China (People's Republic of)           730  ...                0   \n",
       "110991  China (People's Republic of)           730  ...                0   \n",
       "110992  China (People's Republic of)           730  ...                0   \n",
       "110993  China (People's Republic of)           730  ...                0   \n",
       "\n",
       "        rmnch drr  nutrition disability  climate_change mitigation_only  \\\n",
       "77          0   0          0          0               2               0   \n",
       "127         0   0          0          0               2               2   \n",
       "174         0   0          0          0               2               2   \n",
       "176         0   0          0          0               2               2   \n",
       "191         0   0          0          0               2               2   \n",
       "...       ...  ..        ...        ...             ...             ...   \n",
       "110989      0   0          0          0               2               0   \n",
       "110990      0   0          0          0               2               0   \n",
       "110991      0   0          0          0               2               0   \n",
       "110992      0   0          0          0               2               0   \n",
       "110993      0   0          0          0               2               0   \n",
       "\n",
       "        adaptation_only mitigation_and_adaptation  covid_19  \n",
       "77                    2                         0         0  \n",
       "127                   0                         0         0  \n",
       "174                   0                         0         0  \n",
       "176                   0                         0         0  \n",
       "191                   0                         0         0  \n",
       "...                 ...                       ...       ...  \n",
       "110989                2                         0         0  \n",
       "110990                2                         0         0  \n",
       "110991                2                         0         0  \n",
       "110992                2                         0         0  \n",
       "110993                2                         0         0  \n",
       "\n",
       "[3832 rows x 37 columns]"
      ]
     },
     "execution_count": 12,
     "metadata": {},
     "output_type": "execute_result"
    }
   ],
   "source": [
    "# only China as receiving country\n",
    "\n",
    "china_df = df[df['recipient_name'] == \"China (People's Republic of)\"]\n",
    "china_df"
   ]
  },
  {
   "cell_type": "code",
   "execution_count": 13,
   "id": "c59facb0-c333-4bac-bebd-54570f904782",
   "metadata": {},
   "outputs": [
    {
     "data": {
      "text/plain": [
       "donor_name\n",
       "Asian Development Bank                                   554\n",
       "Germany                                                  548\n",
       "United Kingdom                                           430\n",
       "Switzerland                                              310\n",
       "Japan                                                    261\n",
       "International Bank for Reconstruction and Development    205\n",
       "Spain                                                    202\n",
       "United States                                            200\n",
       "France                                                   174\n",
       "Norway                                                   163\n",
       "Children's Investment Fund Foundation                    145\n",
       "William & Flora Hewlett Foundation                       121\n",
       "Finland                                                   91\n",
       "Denmark                                                   78\n",
       "Global Environment Facility                               71\n",
       "EU Institutions (excl. EIB)                               58\n",
       "Italy                                                     48\n",
       "Canada                                                    39\n",
       "John D. & Catherine T. MacArthur Foundation               25\n",
       "Austria                                                   13\n",
       "Sweden                                                    12\n",
       "Oak Foundation                                            12\n",
       "David & Lucile Packard Foundation                         12\n",
       "Korea                                                     12\n",
       "Australia                                                 11\n",
       "European Investment Bank (EIB)                            10\n",
       "Netherlands                                                7\n",
       "Asian Infrastructure Investment Bank                       5\n",
       "Belgium                                                    3\n",
       "IKEA Foundation                                            2\n",
       "United Arab Emirates                                       2\n",
       "Global Green Growth Institute                              1\n",
       "Swedish Postcode Lottery                                   1\n",
       "Citi Foundation                                            1\n",
       "Ford Foundation                                            1\n",
       "Ireland                                                    1\n",
       "Laudes Foundation                                          1\n",
       "International Labour Organisation                          1\n",
       "MAVA Foundation                                            1\n",
       "Name: count, dtype: int64"
      ]
     },
     "execution_count": 13,
     "metadata": {},
     "output_type": "execute_result"
    }
   ],
   "source": [
    "# china's donors\n",
    "\n",
    "china_df['donor_name'].value_counts()"
   ]
  },
  {
   "cell_type": "code",
   "execution_count": 17,
   "id": "df5d91fe-93b4-4249-9747-14683d6ba631",
   "metadata": {},
   "outputs": [
    {
     "data": {
      "text/plain": [
       "donor_name                                             lvl_2_sector_name                                   \n",
       "Asian Development Bank                                 Energy policy and administrative management             854350135\n",
       "                                                       Transport policy and administrative management          839414017\n",
       "International Bank for Reconstruction and Development  Rail transport                                          747683434\n",
       "                                                       Energy policy and administrative management             683065867\n",
       "                                                       Road transport                                          645562660\n",
       "                                                                                                                 ...    \n",
       "EU Institutions (excl. EIB)                            Informal/semi-formal financial intermediaries                   0\n",
       "                                                       Small and medium-sized enterprises (SME) development            0\n",
       "                                                       Urban development and management                                0\n",
       "Spain                                                  Waste management/disposal                                       0\n",
       "William & Flora Hewlett Foundation                     Water supply and sanitation - large systems                     0\n",
       "Name: usd_commitment, Length: 458, dtype: int64"
      ]
     },
     "execution_count": 17,
     "metadata": {},
     "output_type": "execute_result"
    }
   ],
   "source": [
    "china_df.groupby(['donor_name', 'lvl_2_sector_name'])['usd_commitment'].sum().sort_values(ascending=False)"
   ]
  },
  {
   "cell_type": "code",
   "execution_count": 45,
   "id": "82c8f7e5-9594-4fa7-a340-b974781cba3c",
   "metadata": {},
   "outputs": [
    {
     "data": {
      "text/plain": [
       "year_name\n",
       "2020    396\n",
       "2021    390\n",
       "2019    361\n",
       "2018    342\n",
       "2017    325\n",
       "2013    260\n",
       "2015    260\n",
       "2014    258\n",
       "2016    220\n",
       "2011    157\n",
       "2010    155\n",
       "2012    152\n",
       "2008    131\n",
       "2009    102\n",
       "2007     70\n",
       "2003     66\n",
       "2004     52\n",
       "2005     49\n",
       "2006     43\n",
       "2002     43\n",
       "Name: count, dtype: int64"
      ]
     },
     "execution_count": 45,
     "metadata": {},
     "output_type": "execute_result"
    }
   ],
   "source": [
    "china_df['year_name'].value_counts()"
   ]
  },
  {
   "cell_type": "code",
   "execution_count": 28,
   "id": "f713dca3-2b31-43c4-b2ed-747f3c522d44",
   "metadata": {},
   "outputs": [
    {
     "data": {
      "text/plain": [
       "lvl_2_sector_name\n",
       "Environmental policy and administrative management              683\n",
       "Biosphere protection                                            344\n",
       "Energy policy and administrative management                     290\n",
       "Environmental research                                          183\n",
       "Energy generation, renewable sources - multiple technologies    160\n",
       "                                                               ... \n",
       "Agricultural financial services                                   1\n",
       "Fishery education/training                                        1\n",
       "Livestock/veterinary services                                     1\n",
       "Human rights                                                      1\n",
       "Coal                                                              1\n",
       "Name: count, Length: 123, dtype: int64"
      ]
     },
     "execution_count": 28,
     "metadata": {},
     "output_type": "execute_result"
    }
   ],
   "source": [
    "# only China as receiving country\n",
    "\n",
    "df[df['recipient_name'] == \"China (People's Republic of)\"].value_counts('lvl_2_sector_name').sort_values(ascending=False)"
   ]
  },
  {
   "cell_type": "code",
   "execution_count": 29,
   "id": "a1c19c56-022f-40c2-a4d9-0a41a1ace491",
   "metadata": {},
   "outputs": [
    {
     "data": {
      "text/plain": [
       "recipient_name\n",
       "India                           295\n",
       "Türkiye                          63\n",
       "Morocco                          59\n",
       "Tunisia                          55\n",
       "China (People's Republic of)     53\n",
       "Indonesia                        51\n",
       "Egypt                            50\n",
       "Viet Nam                         47\n",
       "Thailand                         44\n",
       "Bangladesh                       33\n",
       "Algeria                          24\n",
       "Philippines                      20\n",
       "Colombia                         12\n",
       "Senegal                          11\n",
       "Bosnia and Herzegovina           10\n",
       "Brazil                            9\n",
       "Ukraine                           9\n",
       "Serbia                            9\n",
       "Azerbaijan                        9\n",
       "Peru                              8\n",
       "Belarus                           7\n",
       "Uzbekistan                        6\n",
       "Moldova                           5\n",
       "Dominican Republic                5\n",
       "Ecuador                           4\n",
       "Republic of North Macedonia       4\n",
       "Argentina                         4\n",
       "Sri Lanka                         3\n",
       "Asia, regional                    3\n",
       "Mexico                            3\n",
       "Montenegro                        3\n",
       "Cameroon                          2\n",
       "Eastern Africa, regional          2\n",
       "Solomon Islands                   2\n",
       "Jordan                            2\n",
       "Kazakhstan                        2\n",
       "Kosovo                            2\n",
       "Albania                           1\n",
       "South Africa                      1\n",
       "Georgia                           1\n",
       "Ethiopia                          1\n",
       "El Salvador                       1\n",
       "Costa Rica                        1\n",
       "Africa, regional                  1\n",
       "Name: count, dtype: int64"
      ]
     },
     "execution_count": 29,
     "metadata": {},
     "output_type": "execute_result"
    }
   ],
   "source": [
    "# only railway projects, by receiving country\n",
    "\n",
    "df[df['lvl_2_sector_name'] == 'Rail transport'].value_counts('recipient_name').sort_values(ascending=False)"
   ]
  },
  {
   "cell_type": "code",
   "execution_count": 31,
   "id": "9d13bbc4-792b-494b-a2bd-9c620472ee6c",
   "metadata": {},
   "outputs": [
    {
     "data": {
      "text/plain": [
       "donor_name\n",
       "Japan                                                    432\n",
       "France                                                   199\n",
       "Spain                                                    113\n",
       "Asian Development Bank                                    38\n",
       "European Bank for Reconstruction and Development          34\n",
       "European Investment Bank (EIB)                            28\n",
       "International Bank for Reconstruction and Development     23\n",
       "Germany                                                   19\n",
       "Inter-American Development Bank                            8\n",
       "Asian Infrastructure Investment Bank                       7\n",
       "Climate Investment Funds                                   7\n",
       "United States                                              6\n",
       "African Development Bank                                   6\n",
       "Italy                                                      4\n",
       "Australia                                                  4\n",
       "African Development Fund                                   3\n",
       "EU Institutions (excl. EIB)                                1\n",
       "Council of Europe Development Bank                         1\n",
       "Central American Bank for Economic Integration             1\n",
       "Black Sea Trade & Development Bank                         1\n",
       "Islamic Development Bank                                   1\n",
       "Austria                                                    1\n",
       "Name: count, dtype: int64"
      ]
     },
     "execution_count": 31,
     "metadata": {},
     "output_type": "execute_result"
    }
   ],
   "source": [
    "# only railway projects, by donor country\n",
    "\n",
    "df[df['lvl_2_sector_name'] == 'Rail transport'].value_counts('donor_name').sort_values(ascending=False)"
   ]
  },
  {
   "cell_type": "code",
   "execution_count": 9,
   "id": "69f36f7f-ce27-4c66-bec3-b486b26da231",
   "metadata": {},
   "outputs": [
    {
     "data": {
      "text/plain": [
       "lvl_2_sector_name                                             recipient_name\n",
       "Agricultural development                                      Philippines       115\n",
       "Multi-hazard response preparedness                            Philippines       108\n",
       "Biosphere protection                                          Philippines       106\n",
       "Environmental policy and administrative management            Philippines        97\n",
       "Energy generation, renewable sources - multiple technologies  Philippines        82\n",
       "                                                                               ... \n",
       "Information and communication technology (ICT)                Philippines         1\n",
       "Retail gas distribution                                       Philippines         1\n",
       "Multisector aid for basic social services                     Philippines         1\n",
       "Other Debt for development swap                               Philippines         1\n",
       "Higher education                                              Philippines         1\n",
       "Name: count, Length: 102, dtype: int64"
      ]
     },
     "execution_count": 9,
     "metadata": {},
     "output_type": "execute_result"
    }
   ],
   "source": [
    "df[df['recipient_name'] == 'Philippines'].groupby('lvl_2_sector_name')['recipient_name'].value_counts().sort_values(ascending=False)"
   ]
  },
  {
   "cell_type": "code",
   "execution_count": 10,
   "id": "cbc0ebb5-9894-41b2-b160-521fca9f3dcb",
   "metadata": {},
   "outputs": [
    {
     "data": {
      "text/plain": [
       "1825921707"
      ]
     },
     "execution_count": 10,
     "metadata": {},
     "output_type": "execute_result"
    }
   ],
   "source": [
    "ph_df = df[(df['recipient_name'] == 'Philippines') & (df['lvl_2_sector_name'] == 'Rail transport')]\n",
    "ph_df['usd_commitment'].sum()"
   ]
  },
  {
   "cell_type": "code",
   "execution_count": 11,
   "id": "69a65aad-27ec-40fc-9ded-67bd29686dc4",
   "metadata": {},
   "outputs": [
    {
     "data": {
      "text/plain": [
       "project_title\n",
       "Capacity Enhancement of Mass Transit Systems in Metro Manila Project    13\n",
       "BRT Cebu                                                                 3\n",
       "MALOLOS-CLARK RAILWAY PROJECT (PFR 1)                                    2\n",
       "RBT ET AMELIORATION DU SYSTEME DE TRANS                                  2\n",
       "Name: count, dtype: int64"
      ]
     },
     "execution_count": 11,
     "metadata": {},
     "output_type": "execute_result"
    }
   ],
   "source": [
    "ph_df['project_title'].value_counts()"
   ]
  },
  {
   "cell_type": "code",
   "execution_count": null,
   "id": "7808c39a-d944-41f8-9c7c-da4140109dcb",
   "metadata": {},
   "outputs": [],
   "source": []
  }
 ],
 "metadata": {
  "kernelspec": {
   "display_name": "Python 3 (ipykernel)",
   "language": "python",
   "name": "python3"
  },
  "language_info": {
   "codemirror_mode": {
    "name": "ipython",
    "version": 3
   },
   "file_extension": ".py",
   "mimetype": "text/x-python",
   "name": "python",
   "nbconvert_exporter": "python",
   "pygments_lexer": "ipython3",
   "version": "3.11.8"
  }
 },
 "nbformat": 4,
 "nbformat_minor": 5
}
